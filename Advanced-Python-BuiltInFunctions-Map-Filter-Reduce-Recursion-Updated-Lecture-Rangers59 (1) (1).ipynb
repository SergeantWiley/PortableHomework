{
  "metadata": {
    "kernelspec": {
      "name": "python",
      "display_name": "Python (Pyodide)",
      "language": "python"
    },
    "language_info": {
      "codemirror_mode": {
        "name": "python",
        "version": 3
      },
      "file_extension": ".py",
      "mimetype": "text/x-python",
      "name": "python",
      "nbconvert_exporter": "python",
      "pygments_lexer": "ipython3",
      "version": "3.8"
    }
  },
  "nbformat_minor": 4,
  "nbformat": 4,
  "cells": [
    {
      "cell_type": "markdown",
      "source": "# Map, Filter, Reduce, Lambda & Recursion",
      "metadata": {}
    },
    {
      "cell_type": "markdown",
      "source": "## Tasks Today:\n\n1) <b>Lambda Functions</b> <br>\n &nbsp;&nbsp;&nbsp;&nbsp; a) Syntax <br>\n &nbsp;&nbsp;&nbsp;&nbsp; b) Saving to a Variable <br>\n &nbsp;&nbsp;&nbsp;&nbsp; c) Multiple Inputs <br>\n &nbsp;&nbsp;&nbsp;&nbsp; d) Passing a Lambda into a Function <br>\n &nbsp;&nbsp;&nbsp;&nbsp; e) Returning a Lambda from a Function <br>\n &nbsp;&nbsp;&nbsp;&nbsp; f) In-Class Exercise #1 <br>\n2) <b>Map</b> <br>\n &nbsp;&nbsp;&nbsp;&nbsp; a) Syntax <br>\n &nbsp;&nbsp;&nbsp;&nbsp; b) Using Lambda's with Map <br>\n &nbsp;&nbsp;&nbsp;&nbsp; c) In-Class Exercise #2 <br>\n3) <b>Filter</b> <br>\n &nbsp;&nbsp;&nbsp;&nbsp; a) Syntax <br>\n &nbsp;&nbsp;&nbsp;&nbsp; b) Using Lambda's with Filter <br>\n &nbsp;&nbsp;&nbsp;&nbsp; c) In-Class Exercise #3 <br>\n4) <b>Reduce</b> <br>\n &nbsp;&nbsp;&nbsp;&nbsp; a) Syntax <br>\n &nbsp;&nbsp;&nbsp;&nbsp; b) Using Lambda's with Reduce <br>\n &nbsp;&nbsp;&nbsp;&nbsp; c) In-Class Exercise #4 <br>\n5) <b>Recursion</b> <br>\n &nbsp;&nbsp;&nbsp;&nbsp; a) Implementing a Base <br>\n &nbsp;&nbsp;&nbsp;&nbsp; b) Writing a Factorial Function <br>\n &nbsp;&nbsp;&nbsp;&nbsp; c) In-Class Exercise #5 <br>\n6) <b>Generators & Iterators</b> <br>\n &nbsp;&nbsp;&nbsp;&nbsp; a) Yield Keyword <br>\n &nbsp;&nbsp;&nbsp;&nbsp; b) Inifinite Generator <br>\n &nbsp;&nbsp;&nbsp;&nbsp; c) In-Class Exercise #6 <br>\n7) <b>Exercises</b> <br>\n &nbsp;&nbsp;&nbsp;&nbsp; a) Exercise #1 - Filtering Empty Strings <br>\n &nbsp;&nbsp;&nbsp;&nbsp; b) Exercise #2 - Sorting with Last Name <br>\n &nbsp;&nbsp;&nbsp;&nbsp; c) Exercise #3 - Conversion to Farhenheit <br>\n &nbsp;&nbsp;&nbsp;&nbsp; d) Exercise #4 - Fibonacci Sequence <br>",
      "metadata": {}
    },
    {
      "cell_type": "markdown",
      "source": "## Lambda Functions <br>\n<p>Lambda functions... or \"Anonymous Functions\" are referring to inline functions with no name. The keyword lambda denotes the no name function, and executes within a single line. Without saving it to a variable; however, it is not able to be used, unless passed in either as a paramater or within list comprehension.<br>Written as \"(keyword lambda) (one or more inputs) (colon) (function to be executed)\"</p>",
      "metadata": {}
    },
    {
      "cell_type": "markdown",
      "source": "#### Syntax",
      "metadata": {}
    },
    {
      "cell_type": "code",
      "source": "",
      "metadata": {},
      "outputs": [],
      "execution_count": null
    },
    {
      "cell_type": "markdown",
      "source": "#### Saving to a Variable",
      "metadata": {}
    },
    {
      "cell_type": "code",
      "source": "",
      "metadata": {},
      "outputs": [],
      "execution_count": null
    },
    {
      "cell_type": "markdown",
      "source": "#### Multiple Inputs",
      "metadata": {}
    },
    {
      "cell_type": "code",
      "source": "",
      "metadata": {},
      "outputs": [],
      "execution_count": null
    },
    {
      "cell_type": "markdown",
      "source": "#### Passing a Lambda into a Function",
      "metadata": {}
    },
    {
      "cell_type": "code",
      "source": "",
      "metadata": {},
      "outputs": [],
      "execution_count": null
    },
    {
      "cell_type": "markdown",
      "source": "#### Returning a Lambda from a Function",
      "metadata": {}
    },
    {
      "cell_type": "code",
      "source": "",
      "metadata": {},
      "outputs": [],
      "execution_count": null
    },
    {
      "cell_type": "markdown",
      "source": "#### If Statements within Lambdas",
      "metadata": {}
    },
    {
      "cell_type": "code",
      "source": "",
      "metadata": {},
      "outputs": [],
      "execution_count": null
    },
    {
      "cell_type": "markdown",
      "source": "#### In-Class Exercise #1 <br>\n<p>Write an anonymous function that cubes the arguments passed in and assign the anonymous function to a variable 'f'.</p>",
      "metadata": {}
    },
    {
      "cell_type": "code",
      "source": "f = lambda val: val**3\nprint(f(10))",
      "metadata": {
        "trusted": true
      },
      "outputs": [
        {
          "name": "stdout",
          "text": "1000\n",
          "output_type": "stream"
        }
      ],
      "execution_count": 1
    },
    {
      "cell_type": "markdown",
      "source": "## Map <br>\n<p>The map function allows you to iterate over an entire list while running a function on each item of the list. This is why the map function works well with lambda's, because it simplifies things and you write less lines of code.<br>The syntax for a map function is \"map(function to be used, list to be used)\"<br>However, you must be careful, as the map function returns a map object, not a list. To turn it into a list we use the list() type conversion.</p>",
      "metadata": {}
    },
    {
      "cell_type": "markdown",
      "source": "#### Syntax",
      "metadata": {}
    },
    {
      "cell_type": "code",
      "source": "",
      "metadata": {},
      "outputs": [],
      "execution_count": null
    },
    {
      "cell_type": "markdown",
      "source": "#### Using Lambda's with Map",
      "metadata": {}
    },
    {
      "cell_type": "code",
      "source": "",
      "metadata": {},
      "outputs": [],
      "execution_count": null
    },
    {
      "cell_type": "markdown",
      "source": "#### In-Class Exercise #2 <br>\n<p>Use the map function to double each number and minus it by one in the list by using a lambda function</p>",
      "metadata": {}
    },
    {
      "cell_type": "code",
      "source": "f = lambda val: val*2-1\nvalues = [1,2,3,4,5,6]\nmapped_values = map(lambda val: val*2-1, values)\nprint(list(mapped_values))",
      "metadata": {
        "trusted": true
      },
      "outputs": [
        {
          "name": "stdout",
          "text": "[1, 3, 5, 7, 9, 11]\n",
          "output_type": "stream"
        }
      ],
      "execution_count": 4
    },
    {
      "cell_type": "markdown",
      "source": "## Filter() <br>\n<p>Filter's are similar to the map function, where you're able to pass a function argument and a list argument and filter out something from the list based on the conditions passed. Similar to the map function, it returns a filter object, so you need to type convert it to a list()</p>",
      "metadata": {}
    },
    {
      "cell_type": "markdown",
      "source": "#### Syntax",
      "metadata": {}
    },
    {
      "cell_type": "code",
      "source": "",
      "metadata": {},
      "outputs": [],
      "execution_count": null
    },
    {
      "cell_type": "markdown",
      "source": "#### Using Lambda's with Filter()",
      "metadata": {}
    },
    {
      "cell_type": "code",
      "source": "",
      "metadata": {},
      "outputs": [],
      "execution_count": null
    },
    {
      "cell_type": "markdown",
      "source": "#### In-Class Exercise #3 <br>\n<p>Filter out all the numbers that are below the mean of the list.<br><b>Hint: Import the 'statistics' module</b></p>",
      "metadata": {}
    },
    {
      "cell_type": "code",
      "source": "import statistics\nvalues = [10,20,30,50,60,70,80,90,100]\nmean = statistics.mean(values)\nprint(mean)\nsmaller_mean = filter(lambda val: val >= mean,values)\nprint(list(smaller_mean))",
      "metadata": {
        "trusted": true
      },
      "outputs": [
        {
          "name": "stdout",
          "text": "56.666666666666664\n[60, 70, 80, 90, 100]\n",
          "output_type": "stream"
        }
      ],
      "execution_count": 8
    },
    {
      "cell_type": "markdown",
      "source": "## Reduce() <br>\n<p>Be very careful when using this function, as of Python 3 it's been moved to the 'functools' library and no longer is a built-in function.<br>The creator of Python himself, says to just use a for loop instead.</p>",
      "metadata": {}
    },
    {
      "cell_type": "markdown",
      "source": "#### Syntax",
      "metadata": {}
    },
    {
      "cell_type": "code",
      "source": "",
      "metadata": {},
      "outputs": [],
      "execution_count": null
    },
    {
      "cell_type": "markdown",
      "source": "#### Using Lambda's with Reduce()",
      "metadata": {}
    },
    {
      "cell_type": "code",
      "source": "",
      "metadata": {},
      "outputs": [],
      "execution_count": null
    },
    {
      "cell_type": "markdown",
      "source": "#### In-Class Exercise #4 <br>\n<p>Use the reduce function to multiply the numbers in the list below together with a lambda function.</p>",
      "metadata": {}
    },
    {
      "cell_type": "code",
      "source": "values = ",
      "metadata": {},
      "outputs": [],
      "execution_count": null
    },
    {
      "cell_type": "markdown",
      "source": "## Recursion <br>\n<p>Recursion means that a function is calling itself, so it contanstly executes until a base case is reached. It will then push the returning values back up the chain until the function is complete. A prime example of recursion is computing factorials... such that 5! (factorial) is 5*4*3*2*1 which equals 120.</p>",
      "metadata": {}
    },
    {
      "cell_type": "markdown",
      "source": "#### Implementing a Base Case",
      "metadata": {}
    },
    {
      "cell_type": "code",
      "source": "",
      "metadata": {},
      "outputs": [],
      "execution_count": null
    },
    {
      "cell_type": "markdown",
      "source": "#### Writing a Factorial Function",
      "metadata": {}
    },
    {
      "cell_type": "code",
      "source": "",
      "metadata": {},
      "outputs": [],
      "execution_count": null
    },
    {
      "cell_type": "markdown",
      "source": "#### In-Class Exercise #5 <br>\n<p>Write a recursive function that subtracts all numbers to the argument given.</p>",
      "metadata": {}
    },
    {
      "cell_type": "code",
      "source": "def recursive(values, number):\n    if not values:\n        return number\n    return recursive(values[1:], number - values[0])\n\nvalues = [5, 15, 20, 25, 30, 35]\nnumber = 100\n\nprint(recursive(values, number))\n",
      "metadata": {
        "trusted": true
      },
      "outputs": [
        {
          "name": "stdout",
          "text": "-30\n",
          "output_type": "stream"
        }
      ],
      "execution_count": 18
    },
    {
      "cell_type": "markdown",
      "source": "## Generators <br>\n<p>Generators are a type of iterable, like lists or tuples. They do not allow indexing, but they can still be iterated through with for loops. They are created using functions and the yield statement.</p>",
      "metadata": {}
    },
    {
      "cell_type": "markdown",
      "source": "#### Yield Keyword <br>\n<p>The yield keyword denotes a generator, it doesn't return so it won't leave the function and reset all variables in the function scope, instead it yields the number back to the caller.</p>",
      "metadata": {}
    },
    {
      "cell_type": "code",
      "source": "",
      "metadata": {},
      "outputs": [],
      "execution_count": null
    },
    {
      "cell_type": "markdown",
      "source": "#### Infinite Generator",
      "metadata": {}
    },
    {
      "cell_type": "code",
      "source": "# bad, never create infinite loops",
      "metadata": {},
      "outputs": [],
      "execution_count": null
    },
    {
      "cell_type": "markdown",
      "source": "#### In-Class Exercise #6 <br>\n<p>Create a generator that takes a number argument and yields that number squared, then prints each number squared until zero is reached.</p>",
      "metadata": {}
    },
    {
      "cell_type": "code",
      "source": "def generator(number):\n    if number <= 0:\n        return 0\n    else:\n        yield number**2\n        yield from generator(number-1)\nvalues = generator(10)\nfor i in values:\n    print(i)",
      "metadata": {
        "trusted": true
      },
      "outputs": [
        {
          "name": "stdout",
          "text": "100\n81\n64\n49\n36\n25\n16\n9\n4\n1\n",
          "output_type": "stream"
        }
      ],
      "execution_count": 28
    },
    {
      "cell_type": "markdown",
      "source": "# Exercises",
      "metadata": {}
    },
    {
      "cell_type": "markdown",
      "source": "### Exercise #1 <br>\n<p>Filter out all of the empty strings from the list below</p>\n\n`Output: ['Argentina', 'San Diego', 'Boston', 'New York']`",
      "metadata": {}
    },
    {
      "cell_type": "code",
      "source": "places = [\" \",\"Argentina\", \" \", \"San Diego\",\"\",\"  \",\"\",\"Boston\",\"New York\"]\nplaces = list(filter(places,\" \"))\nprint(places)\n",
      "metadata": {
        "trusted": true
      },
      "outputs": [
        {
          "ename": "<class 'TypeError'>",
          "evalue": "'list' object is not callable",
          "traceback": [
            "\u001b[0;31m---------------------------------------------------------------------------\u001b[0m",
            "\u001b[0;31mTypeError\u001b[0m                                 Traceback (most recent call last)",
            "Cell \u001b[0;32mIn[4], line 2\u001b[0m\n\u001b[1;32m      1\u001b[0m places \u001b[38;5;241m=\u001b[39m [\u001b[38;5;124m\"\u001b[39m\u001b[38;5;124m \u001b[39m\u001b[38;5;124m\"\u001b[39m,\u001b[38;5;124m\"\u001b[39m\u001b[38;5;124mArgentina\u001b[39m\u001b[38;5;124m\"\u001b[39m, \u001b[38;5;124m\"\u001b[39m\u001b[38;5;124m \u001b[39m\u001b[38;5;124m\"\u001b[39m, \u001b[38;5;124m\"\u001b[39m\u001b[38;5;124mSan Diego\u001b[39m\u001b[38;5;124m\"\u001b[39m,\u001b[38;5;124m\"\u001b[39m\u001b[38;5;124m\"\u001b[39m,\u001b[38;5;124m\"\u001b[39m\u001b[38;5;124m  \u001b[39m\u001b[38;5;124m\"\u001b[39m,\u001b[38;5;124m\"\u001b[39m\u001b[38;5;124m\"\u001b[39m,\u001b[38;5;124m\"\u001b[39m\u001b[38;5;124mBoston\u001b[39m\u001b[38;5;124m\"\u001b[39m,\u001b[38;5;124m\"\u001b[39m\u001b[38;5;124mNew York\u001b[39m\u001b[38;5;124m\"\u001b[39m]\n\u001b[0;32m----> 2\u001b[0m places \u001b[38;5;241m=\u001b[39m \u001b[38;5;28;43mlist\u001b[39;49m\u001b[43m(\u001b[49m\u001b[38;5;28;43mfilter\u001b[39;49m\u001b[43m(\u001b[49m\u001b[43mplaces\u001b[49m\u001b[43m,\u001b[49m\u001b[38;5;124;43m\"\u001b[39;49m\u001b[38;5;124;43m \u001b[39;49m\u001b[38;5;124;43m\"\u001b[39;49m\u001b[43m)\u001b[49m\u001b[43m)\u001b[49m\n\u001b[1;32m      3\u001b[0m \u001b[38;5;28mprint\u001b[39m(places)\n",
            "\u001b[0;31mTypeError\u001b[0m: 'list' object is not callable"
          ],
          "output_type": "error"
        }
      ],
      "execution_count": 4
    },
    {
      "cell_type": "markdown",
      "source": "### Exercise #2 <br>\n<p>Write an anonymous function that sorts this list by the last name...<br><b>Hint: Use the \".sort()\" method and access the key\"</b></p>\n\n`Output: ['Victor aNisimov', 'Gary A.J. Bernstein', 'Joel Carter', 'Andrew P. Garfield', 'David hassELHOFF']`",
      "metadata": {}
    },
    {
      "cell_type": "code",
      "source": "author = [\"Joel Carter\", \"Victor aNisimov\", \"Andrew P. Garfield\",\"David hassELHOFF\",\"Gary A.J. Bernstein\"]\n\n",
      "metadata": {},
      "outputs": [],
      "execution_count": null
    },
    {
      "cell_type": "markdown",
      "source": "### Exercise #3 <br>\n<p>Convert the list below from Celsius to Farhenheit, using the map function with a lambda...</p>\n\n`Output: [('Nashua', 89.6), ('Boston', 53.6), ('Los Angelos', 111.2), ('Miami', 84.2)]\n`",
      "metadata": {}
    },
    {
      "cell_type": "code",
      "source": "# F = (9/5)*C + 32\nplaces = [('Nashua',32),(\"Boston\",12),(\"Los Angelos\",44),(\"Miami\",29)]\n",
      "metadata": {},
      "outputs": [],
      "execution_count": null
    },
    {
      "cell_type": "markdown",
      "source": "### Exercise #4 <br>\n<p>Write a recursion function to perform the fibonacci sequence up to the number passed in.</p>\n\n`Output for fib(5) => \nIteration 0: 1\nIteration 1: 1\nIteration 2: 2\nIteration 3: 3\nIteration 4: 5\nIteration 5: 8`",
      "metadata": {}
    },
    {
      "cell_type": "code",
      "source": "",
      "metadata": {
        "scrolled": true
      },
      "outputs": [],
      "execution_count": null
    }
  ]
}